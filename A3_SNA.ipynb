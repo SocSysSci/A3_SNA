{
  "nbformat": 4,
  "nbformat_minor": 0,
  "metadata": {
    "colab": {
      "name": "SocSysSci_network_analysis.ipynb",
      "provenance": [],
      "include_colab_link": true
    },
    "kernelspec": {
      "name": "python3",
      "display_name": "Python 3"
    }
  },
  "cells": [
    {
      "cell_type": "markdown",
      "metadata": {
        "id": "view-in-github",
        "colab_type": "text"
      },
      "source": [
        "<a href=\"https://colab.research.google.com/github/SocSysSci/A3_SNA/blob/main/A3_SNA.ipynb\" target=\"_parent\"><img src=\"https://colab.research.google.com/assets/colab-badge.svg\" alt=\"Open In Colab\"/></a>"
      ]
    },
    {
      "cell_type": "code",
      "metadata": {
        "id": "fo-2iFbgiCIm"
      },
      "source": [
        "import numpy as np\n",
        "import matplotlib.pyplot as plt"
      ],
      "execution_count": null,
      "outputs": []
    },
    {
      "cell_type": "markdown",
      "metadata": {
        "id": "K2eulZFnjD8u"
      },
      "source": [
        "### 1. ネットワークの設定（隣接行列）"
      ]
    },
    {
      "cell_type": "code",
      "metadata": {
        "id": "bekqW-kqiM4U"
      },
      "source": [
        "A = np.matrix([\n",
        "               [0,0,1,0,0,0],\n",
        "               [0,0,1,0,0,0],\n",
        "               [1,1,0,1,1,0],\n",
        "               [0,0,1,0,1,1],\n",
        "               [0,0,1,1,0,1],\n",
        "               [0,0,0,1,1,0]\n",
        "])"
      ],
      "execution_count": null,
      "outputs": []
    },
    {
      "cell_type": "markdown",
      "metadata": {
        "id": "jQ2Qk91BjQs8"
      },
      "source": [
        "### 2. シミュレーションの初期設定"
      ]
    },
    {
      "cell_type": "code",
      "metadata": {
        "id": "GpCsn9Tiicng"
      },
      "source": [
        "N = 10\n",
        "x = [0] * (N+1)\n",
        "x[0] = np.matrix([1,1,1,1,1,1]).T  # 中心性の初期値：みんな1（ノードの数だけ必要）"
      ],
      "execution_count": null,
      "outputs": []
    },
    {
      "cell_type": "markdown",
      "metadata": {
        "id": "z3PZ_dfXjfuQ"
      },
      "source": [
        "### 3. 実験"
      ]
    },
    {
      "cell_type": "code",
      "metadata": {
        "id": "fWt-uaHvikl6"
      },
      "source": [
        "x[0] = x[0] / np.sum(x[0])\n",
        "for n in range(N):\n",
        "  x[n+1] = A * x[n] + np.random.rand(6,1)/100.0 # 6：ノードの数\n",
        "  x[n+1] = x[n+1] / np.sum(x[n+1])"
      ],
      "execution_count": null,
      "outputs": []
    },
    {
      "cell_type": "markdown",
      "metadata": {
        "id": "EiB4-1Pyji83"
      },
      "source": [
        "### 4. プロット\n",
        "#### 4-1. 全データ"
      ]
    },
    {
      "cell_type": "code",
      "metadata": {
        "id": "qb36WbJ0ivH7"
      },
      "source": [
        "x = np.array(x)\n",
        "plt.plot(x.reshape(N+1, 6))\n",
        "plt.legend(['A','B','C','D','E','F'])  # ラベル：ノードの数だけ必要"
      ],
      "execution_count": null,
      "outputs": []
    },
    {
      "cell_type": "markdown",
      "metadata": {
        "id": "w8VOIXp_j4-4"
      },
      "source": [
        "#### 4-2. 特定のデータのみ"
      ]
    },
    {
      "cell_type": "code",
      "metadata": {
        "id": "HkaqREBqi8SU"
      },
      "source": [
        "plt.plot(x[:,0])"
      ],
      "execution_count": null,
      "outputs": []
    }
  ]
}